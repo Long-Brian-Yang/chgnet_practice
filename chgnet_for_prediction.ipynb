{
 "cells": [
  {
   "cell_type": "code",
   "execution_count": 8,
   "metadata": {},
   "outputs": [],
   "source": [
    "try:\n",
    "    from chgnet.model import CHGNet\n",
    "except ImportError:\n",
    "    # install CHGNet (only needed on Google Colab or if you didn't install CHGNet yet)\n",
    "    !pip install chgnet"
   ]
  },
  {
   "cell_type": "code",
   "execution_count": 10,
   "metadata": {},
   "outputs": [
    {
     "name": "stdout",
     "output_type": "stream",
     "text": [
      "Requirement already satisfied: chgnet in /opt/anaconda3/lib/python3.11/site-packages (0.3.8)\n",
      "Requirement already satisfied: ase>=3.23.0 in /opt/anaconda3/lib/python3.11/site-packages (from chgnet) (3.23.0)\n",
      "Requirement already satisfied: cython>=3 in /opt/anaconda3/lib/python3.11/site-packages (from chgnet) (3.0.11)\n",
      "Requirement already satisfied: numpy>=1.26 in /opt/anaconda3/lib/python3.11/site-packages (from chgnet) (1.26.4)\n",
      "Requirement already satisfied: nvidia-ml-py3>=7.352.0 in /opt/anaconda3/lib/python3.11/site-packages (from chgnet) (7.352.0)\n",
      "Requirement already satisfied: pymatgen>=2023.10.11 in /opt/anaconda3/lib/python3.11/site-packages (from chgnet) (2024.5.1)\n",
      "Requirement already satisfied: torch>=1.11.0 in /opt/anaconda3/lib/python3.11/site-packages (from chgnet) (2.2.2)\n",
      "Requirement already satisfied: scipy>=1.6.0 in /opt/anaconda3/lib/python3.11/site-packages (from ase>=3.23.0->chgnet) (1.10.1)\n",
      "Requirement already satisfied: matplotlib>=3.3.4 in /opt/anaconda3/lib/python3.11/site-packages (from ase>=3.23.0->chgnet) (3.9.2)\n",
      "Requirement already satisfied: monty>=2024.2.2 in /opt/anaconda3/lib/python3.11/site-packages (from pymatgen>=2023.10.11->chgnet) (2024.7.30)\n",
      "Requirement already satisfied: networkx>=2.2 in /opt/anaconda3/lib/python3.11/site-packages (from pymatgen>=2023.10.11->chgnet) (3.1)\n",
      "Requirement already satisfied: palettable>=3.1.1 in /opt/anaconda3/lib/python3.11/site-packages (from pymatgen>=2023.10.11->chgnet) (3.3.3)\n",
      "Requirement already satisfied: pandas in /opt/anaconda3/lib/python3.11/site-packages (from pymatgen>=2023.10.11->chgnet) (1.5.3)\n",
      "Requirement already satisfied: plotly>=4.5.0 in /opt/anaconda3/lib/python3.11/site-packages (from pymatgen>=2023.10.11->chgnet) (5.9.0)\n",
      "Requirement already satisfied: pybtex in /opt/anaconda3/lib/python3.11/site-packages (from pymatgen>=2023.10.11->chgnet) (0.24.0)\n",
      "Requirement already satisfied: requests in /opt/anaconda3/lib/python3.11/site-packages (from pymatgen>=2023.10.11->chgnet) (2.31.0)\n",
      "Requirement already satisfied: ruamel.yaml>=0.17.0 in /opt/anaconda3/lib/python3.11/site-packages (from pymatgen>=2023.10.11->chgnet) (0.17.21)\n",
      "Requirement already satisfied: spglib>=2.0.2 in /opt/anaconda3/lib/python3.11/site-packages (from pymatgen>=2023.10.11->chgnet) (2.4.0)\n",
      "Requirement already satisfied: sympy in /opt/anaconda3/lib/python3.11/site-packages (from pymatgen>=2023.10.11->chgnet) (1.12)\n",
      "Requirement already satisfied: tabulate in /opt/anaconda3/lib/python3.11/site-packages (from pymatgen>=2023.10.11->chgnet) (0.9.0)\n",
      "Requirement already satisfied: tqdm in /opt/anaconda3/lib/python3.11/site-packages (from pymatgen>=2023.10.11->chgnet) (4.66.5)\n",
      "Requirement already satisfied: uncertainties>=3.1.4 in /opt/anaconda3/lib/python3.11/site-packages (from pymatgen>=2023.10.11->chgnet) (3.1.7)\n",
      "Requirement already satisfied: joblib in /opt/anaconda3/lib/python3.11/site-packages (from pymatgen>=2023.10.11->chgnet) (1.2.0)\n",
      "Requirement already satisfied: filelock in /opt/anaconda3/lib/python3.11/site-packages (from torch>=1.11.0->chgnet) (3.13.1)\n",
      "Requirement already satisfied: typing-extensions>=4.8.0 in /opt/anaconda3/lib/python3.11/site-packages (from torch>=1.11.0->chgnet) (4.9.0)\n",
      "Requirement already satisfied: jinja2 in /opt/anaconda3/lib/python3.11/site-packages (from torch>=1.11.0->chgnet) (3.1.3)\n",
      "Requirement already satisfied: fsspec in /opt/anaconda3/lib/python3.11/site-packages (from torch>=1.11.0->chgnet) (2023.10.0)\n",
      "Requirement already satisfied: contourpy>=1.0.1 in /opt/anaconda3/lib/python3.11/site-packages (from matplotlib>=3.3.4->ase>=3.23.0->chgnet) (1.2.0)\n",
      "Requirement already satisfied: cycler>=0.10 in /opt/anaconda3/lib/python3.11/site-packages (from matplotlib>=3.3.4->ase>=3.23.0->chgnet) (0.11.0)\n",
      "Requirement already satisfied: fonttools>=4.22.0 in /opt/anaconda3/lib/python3.11/site-packages (from matplotlib>=3.3.4->ase>=3.23.0->chgnet) (4.25.0)\n",
      "Requirement already satisfied: kiwisolver>=1.3.1 in /opt/anaconda3/lib/python3.11/site-packages (from matplotlib>=3.3.4->ase>=3.23.0->chgnet) (1.4.4)\n",
      "Requirement already satisfied: packaging>=20.0 in /opt/anaconda3/lib/python3.11/site-packages (from matplotlib>=3.3.4->ase>=3.23.0->chgnet) (23.1)\n",
      "Requirement already satisfied: pillow>=8 in /opt/anaconda3/lib/python3.11/site-packages (from matplotlib>=3.3.4->ase>=3.23.0->chgnet) (10.2.0)\n",
      "Requirement already satisfied: pyparsing>=2.3.1 in /opt/anaconda3/lib/python3.11/site-packages (from matplotlib>=3.3.4->ase>=3.23.0->chgnet) (3.0.9)\n",
      "Requirement already satisfied: python-dateutil>=2.7 in /opt/anaconda3/lib/python3.11/site-packages (from matplotlib>=3.3.4->ase>=3.23.0->chgnet) (2.8.2)\n",
      "Requirement already satisfied: tenacity>=6.2.0 in /opt/anaconda3/lib/python3.11/site-packages (from plotly>=4.5.0->pymatgen>=2023.10.11->chgnet) (8.2.2)\n",
      "Requirement already satisfied: future in /opt/anaconda3/lib/python3.11/site-packages (from uncertainties>=3.1.4->pymatgen>=2023.10.11->chgnet) (0.18.3)\n",
      "Requirement already satisfied: MarkupSafe>=2.0 in /opt/anaconda3/lib/python3.11/site-packages (from jinja2->torch>=1.11.0->chgnet) (2.1.3)\n",
      "Requirement already satisfied: pytz>=2020.1 in /opt/anaconda3/lib/python3.11/site-packages (from pandas->pymatgen>=2023.10.11->chgnet) (2023.3.post1)\n",
      "Requirement already satisfied: PyYAML>=3.01 in /opt/anaconda3/lib/python3.11/site-packages (from pybtex->pymatgen>=2023.10.11->chgnet) (6.0.1)\n",
      "Requirement already satisfied: latexcodec>=1.0.4 in /opt/anaconda3/lib/python3.11/site-packages (from pybtex->pymatgen>=2023.10.11->chgnet) (3.0.0)\n",
      "Requirement already satisfied: six in /opt/anaconda3/lib/python3.11/site-packages (from pybtex->pymatgen>=2023.10.11->chgnet) (1.16.0)\n",
      "Requirement already satisfied: charset-normalizer<4,>=2 in /opt/anaconda3/lib/python3.11/site-packages (from requests->pymatgen>=2023.10.11->chgnet) (2.0.4)\n",
      "Requirement already satisfied: idna<4,>=2.5 in /opt/anaconda3/lib/python3.11/site-packages (from requests->pymatgen>=2023.10.11->chgnet) (3.8)\n",
      "Requirement already satisfied: urllib3<3,>=1.21.1 in /opt/anaconda3/lib/python3.11/site-packages (from requests->pymatgen>=2023.10.11->chgnet) (2.2.2)\n",
      "Requirement already satisfied: certifi>=2017.4.17 in /opt/anaconda3/lib/python3.11/site-packages (from requests->pymatgen>=2023.10.11->chgnet) (2024.8.30)\n",
      "Requirement already satisfied: mpmath>=0.19 in /opt/anaconda3/lib/python3.11/site-packages (from sympy->pymatgen>=2023.10.11->chgnet) (1.3.0)\n"
     ]
    }
   ],
   "source": [
    "!pip install chgnet"
   ]
  },
  {
   "cell_type": "code",
   "execution_count": 4,
   "metadata": {},
   "outputs": [],
   "source": [
    "import numpy as np\n",
    "from pymatgen.core import Structure\n",
    "\n",
    "from chgnet.model import CHGNet\n",
    "\n",
    "# If the above line fails in Google Colab due to numpy version issue,\n",
    "# please restart the runtime, and the problem will be solved\n",
    "\n",
    "np.set_printoptions(precision=4, suppress=True)"
   ]
  },
  {
   "cell_type": "markdown",
   "metadata": {},
   "source": [
    "Read structure from a json or cif file"
   ]
  },
  {
   "cell_type": "code",
   "execution_count": 5,
   "metadata": {},
   "outputs": [
    {
     "name": "stdout",
     "output_type": "stream",
     "text": [
      "Full Formula (Li2 Mn2 O4)\n",
      "Reduced Formula: LiMnO2\n",
      "abc   :   2.868779   4.634475   5.832507\n",
      "angles:  90.000000  90.000000  90.000000\n",
      "pbc   :       True       True       True\n",
      "Sites (8)\n",
      "  #  SP      a    b         c\n",
      "---  ----  ---  ---  --------\n",
      "  0  Li+   0.5  0.5  0.37975\n",
      "  1  Li+   0    0    0.62025\n",
      "  2  Mn3+  0.5  0.5  0.863252\n",
      "  3  Mn3+  0    0    0.136747\n",
      "  4  O2-   0.5  0    0.360824\n",
      "  5  O2-   0    0.5  0.098514\n",
      "  6  O2-   0.5  0    0.901486\n",
      "  7  O2-   0    0.5  0.639176\n"
     ]
    }
   ],
   "source": [
    "try:\n",
    "    from chgnet import ROOT\n",
    "\n",
    "    structure = Structure.from_file(f\"{ROOT}/examples/mp-18767-LiMnO2.cif\")\n",
    "except Exception:\n",
    "    from urllib.request import urlopen\n",
    "\n",
    "    url = \"https://raw.githubusercontent.com/CederGroupHub/chgnet/main/examples/mp-18767-LiMnO2.cif\"\n",
    "    cif = urlopen(url).read().decode(\"utf-8\")\n",
    "    structure = Structure.from_str(cif, fmt=\"cif\")\n",
    "\n",
    "print(structure)"
   ]
  },
  {
   "cell_type": "markdown",
   "metadata": {},
   "source": [
    "Define Model"
   ]
  },
  {
   "cell_type": "code",
   "execution_count": 14,
   "metadata": {},
   "outputs": [
    {
     "name": "stdout",
     "output_type": "stream",
     "text": [
      "CHGNet v0.3.0 initialized with 412,525 parameters\n",
      "CHGNet will run on mps\n"
     ]
    }
   ],
   "source": [
    "chgnet = CHGNet.load()\n",
    "\n",
    "# Alternatively you can read your own model\n",
    "# chgnet = CHGNet.from_file(model_path)"
   ]
  },
  {
   "cell_type": "markdown",
   "metadata": {},
   "source": [
    "Predict energy, force, stress, magmom"
   ]
  },
  {
   "cell_type": "code",
   "execution_count": 16,
   "metadata": {},
   "outputs": [
    {
     "name": "stdout",
     "output_type": "stream",
     "text": [
      "CHGNet-predicted energy (eV/atom):\n",
      "-7.3676910400390625\n",
      "\n",
      "CHGNet-predicted forces (eV/A):\n",
      "[[-0.     -0.      0.0238]\n",
      " [-0.      0.     -0.0238]\n",
      " [ 0.      0.      0.0926]\n",
      " [-0.     -0.     -0.0926]\n",
      " [ 0.      0.     -0.0024]\n",
      " [ 0.      0.     -0.0131]\n",
      " [-0.     -0.      0.0131]\n",
      " [ 0.      0.      0.0024]]\n",
      "\n",
      "CHGNet-predicted stress (GPa):\n",
      "[[-0.304  -0.     -0.    ]\n",
      " [-0.      0.2231  0.    ]\n",
      " [-0.      0.     -0.1073]]\n",
      "\n",
      "CHGNet-predicted magmom (mu_B):\n",
      "[0.003  0.003  3.8694 3.8694 0.0441 0.0386 0.0386 0.0441]\n",
      "\n"
     ]
    }
   ],
   "source": [
    "prediction = chgnet.predict_structure(structure)\n",
    "\n",
    "for key, unit in [\n",
    "    (\"energy\", \"eV/atom\"),\n",
    "    (\"forces\", \"eV/A\"),\n",
    "    (\"stress\", \"GPa\"),\n",
    "    (\"magmom\", \"mu_B\"),\n",
    "]:\n",
    "    print(f\"CHGNet-predicted {key} ({unit}):\\n{prediction[key[0]]}\\n\")"
   ]
  },
  {
   "cell_type": "markdown",
   "metadata": {},
   "source": [
    "Structure Optimization"
   ]
  },
  {
   "cell_type": "code",
   "execution_count": 17,
   "metadata": {},
   "outputs": [
    {
     "name": "stdout",
     "output_type": "stream",
     "text": [
      "CHGNet v0.3.0 initialized with 412,525 parameters\n",
      "CHGNet will run on mps\n"
     ]
    }
   ],
   "source": [
    "from chgnet.model import StructOptimizer\n",
    "\n",
    "relaxer = StructOptimizer()"
   ]
  },
  {
   "cell_type": "code",
   "execution_count": 18,
   "metadata": {},
   "outputs": [
    {
     "name": "stdout",
     "output_type": "stream",
     "text": [
      "      Step     Time          Energy          fmax\n",
      "FIRE:    0 16:41:41      -58.719028        0.241698\n",
      "FIRE:    1 16:41:42      -58.719997        1.103130\n",
      "FIRE:    2 16:41:42      -58.766087        0.902190\n",
      "FIRE:    3 16:41:43      -58.829632        0.646016\n",
      "FIRE:    4 16:41:43      -58.880054        0.448234\n",
      "FIRE:    5 16:41:44      -58.902187        0.332600\n",
      "FIRE:    6 16:41:44      -58.903545        0.451014\n",
      "FIRE:    7 16:41:44      -58.905586        0.432571\n",
      "FIRE:    8 16:41:44      -58.909386        0.395806\n",
      "FIRE:    9 16:41:44      -58.914410        0.340308\n",
      "FIRE:   10 16:41:45      -58.919991        0.290973\n",
      "FIRE:   11 16:41:45      -58.925446        0.242369\n",
      "FIRE:   12 16:41:45      -58.930099        0.197698\n",
      "FIRE:   13 16:41:45      -58.933319        0.158006\n",
      "FIRE:   14 16:41:46      -58.934971        0.135387\n",
      "FIRE:   15 16:41:46      -58.935104        0.187229\n",
      "FIRE:   16 16:41:46      -58.935200        0.184778\n",
      "FIRE:   17 16:41:46      -58.935394        0.179963\n",
      "FIRE:   18 16:41:46      -58.935661        0.172882\n",
      "FIRE:   19 16:41:46      -58.936001        0.163513\n",
      "FIRE:   20 16:41:46      -58.936394        0.151897\n",
      "FIRE:   21 16:41:47      -58.936825        0.138655\n",
      "FIRE:   22 16:41:47      -58.937271        0.124589\n",
      "FIRE:   23 16:41:47      -58.937763        0.108209\n",
      "FIRE:   24 16:41:47      -58.938278        0.089088\n",
      "Relaxed structure:\n",
      "\n",
      "Full Formula (Li2 Mn2 O4)\n",
      "Reduced Formula: LiMnO2\n",
      "abc   :   2.873321   4.636284   5.844515\n",
      "angles:  89.926816  89.881947  90.035169\n",
      "pbc   :       True       True       True\n",
      "Sites (8)\n",
      "  #  SP            a          b         c      magmom\n",
      "---  ----  ---------  ---------  --------  ----------\n",
      "  0  Li+    0.496998   0.487891  0.376642  0.00272962\n",
      "  1  Li+    0.021911  -0.003734  0.613682  0.00262213\n",
      "  2  Mn3+   0.49527    0.497813  0.86354   3.87182\n",
      "  3  Mn3+   1.0012     0.994037  0.129796  3.8635\n",
      "  4  O2-    0.502197   0.999219  0.353367  0.0445146\n",
      "  5  O2-   -0.004144   0.497789  0.098046  0.0386389\n",
      "  6  O2-    0.502848   0.998219  0.896231  0.0378916\n",
      "  7  O2-   -0.001997   0.502051  0.639744  0.0461805\n"
     ]
    }
   ],
   "source": [
    "# Perturb the structure\n",
    "structure.perturb(0.1)\n",
    "\n",
    "# Relax the perturbed structure\n",
    "result = relaxer.relax(structure, verbose=True)\n",
    "print(\"Relaxed structure:\\n\")\n",
    "print(result[\"final_structure\"])"
   ]
  },
  {
   "cell_type": "markdown",
   "metadata": {},
   "source": [
    "Molecular Dynamics"
   ]
  },
  {
   "cell_type": "code",
   "execution_count": 19,
   "metadata": {},
   "outputs": [
    {
     "name": "stdout",
     "output_type": "stream",
     "text": [
      "CHGNet will run on mps\n",
      "NVT-Berendsen-MD created\n"
     ]
    },
    {
     "name": "stderr",
     "output_type": "stream",
     "text": [
      "/opt/anaconda3/lib/python3.11/site-packages/ase/md/nvtberendsen.py:109: RuntimeWarning: divide by zero encountered in scalar divide\n",
      "  (self.temperature / old_temperature - 1.0) *\n"
     ]
    }
   ],
   "source": [
    "from chgnet.model.dynamics import MolecularDynamics\n",
    "\n",
    "md = MolecularDynamics(\n",
    "    atoms=structure,\n",
    "    model=chgnet,\n",
    "    ensemble=\"nvt\",\n",
    "    temperature=1000,  # in k\n",
    "    timestep=2,  # in fs\n",
    "    trajectory=\"md_out.traj\",\n",
    "    logfile=\"md_out.log\",\n",
    "    loginterval=100,\n",
    ")\n",
    "md.run(50)  # run a 0.1 ps MD simulation"
   ]
  },
  {
   "cell_type": "markdown",
   "metadata": {},
   "source": [
    "Magmom Visualization"
   ]
  },
  {
   "cell_type": "code",
   "execution_count": 20,
   "metadata": {},
   "outputs": [
    {
     "name": "stdout",
     "output_type": "stream",
     "text": [
      "Li+16 Mn3+16 O2-32\n"
     ]
    }
   ],
   "source": [
    "supercell = structure.make_supercell([2, 2, 2], in_place=False)\n",
    "print(supercell.composition)"
   ]
  },
  {
   "cell_type": "code",
   "execution_count": 21,
   "metadata": {},
   "outputs": [
    {
     "name": "stdout",
     "output_type": "stream",
     "text": [
      "Li+8 Mn3+16 O2-32\n"
     ]
    }
   ],
   "source": [
    "import random\n",
    "\n",
    "n_Li = int(supercell.composition[\"Li+\"])\n",
    "remove_ids = random.sample(list(range(n_Li)), n_Li // 2)\n",
    "\n",
    "supercell.remove_sites(remove_ids)\n",
    "print(supercell.composition)"
   ]
  },
  {
   "cell_type": "code",
   "execution_count": 22,
   "metadata": {},
   "outputs": [
    {
     "name": "stdout",
     "output_type": "stream",
     "text": [
      "      Step     Time          Energy          fmax\n",
      "FIRE:    0 16:49:03     -424.481064        2.384429\n",
      "FIRE:    1 16:49:06     -425.271496        1.764571\n",
      "FIRE:    2 16:49:09     -426.254803        1.135107\n",
      "FIRE:    3 16:49:10     -426.813480        1.054440\n",
      "FIRE:    4 16:49:12     -426.965366        1.832455\n",
      "FIRE:    5 16:49:13     -427.031723        1.665947\n",
      "FIRE:    6 16:49:14     -427.144543        1.353258\n",
      "FIRE:    7 16:49:15     -427.273624        0.942368\n",
      "FIRE:    8 16:49:17     -427.391731        0.598631\n",
      "FIRE:    9 16:49:19     -427.479904        0.525716\n",
      "FIRE:   10 16:49:21     -427.538624        0.503314\n",
      "FIRE:   11 16:49:23     -427.582870        0.677975\n",
      "FIRE:   12 16:49:28     -427.638412        0.773737\n",
      "FIRE:   13 16:49:30     -427.723381        0.810846\n",
      "FIRE:   14 16:49:32     -427.842716        0.690752\n",
      "FIRE:   15 16:49:42     -427.980370        0.462095\n",
      "FIRE:   16 16:49:46     -428.100132        0.459664\n",
      "FIRE:   17 16:49:49     -428.178585        0.496651\n",
      "FIRE:   18 16:49:51     -428.250523        0.620104\n",
      "FIRE:   19 16:49:54     -428.361607        0.652159\n",
      "FIRE:   20 16:49:55     -428.486496        0.535975\n",
      "FIRE:   21 16:49:56     -428.594376        0.604699\n",
      "FIRE:   22 16:49:57     -428.721401        0.679258\n",
      "FIRE:   23 16:50:00     -428.832966        0.881235\n",
      "FIRE:   24 16:50:02     -428.859295        0.800793\n",
      "FIRE:   25 16:50:03     -428.905224        0.661830\n",
      "FIRE:   26 16:50:05     -428.961113        0.476843\n",
      "FIRE:   27 16:50:09     -429.017670        0.440219\n",
      "FIRE:   28 16:50:10     -429.068886        0.372789\n",
      "FIRE:   29 16:50:10     -429.115376        0.337761\n",
      "FIRE:   30 16:50:29     -429.158474        0.339704\n",
      "FIRE:   31 16:50:30     -429.203495        0.339018\n",
      "FIRE:   32 16:50:32     -429.247581        0.330566\n",
      "FIRE:   33 16:50:36     -429.288143        0.317062\n",
      "FIRE:   34 16:51:05     -429.324512        0.299816\n",
      "FIRE:   35 16:51:24     -429.359226        0.293504\n",
      "FIRE:   36 16:51:43     -429.403767        0.333585\n",
      "FIRE:   37 16:52:03     -429.459656        0.256409\n",
      "FIRE:   38 16:52:15     -429.513542        0.241772\n",
      "FIRE:   39 16:52:33     -429.550045        0.322776\n",
      "FIRE:   40 16:53:21     -429.559872        0.293257\n",
      "FIRE:   41 16:54:12     -429.576267        0.239365\n",
      "FIRE:   42 16:54:30     -429.594532        0.211223\n",
      "FIRE:   43 16:54:43     -429.611435        0.216241\n",
      "FIRE:   44 16:55:10     -429.625854        0.220931\n",
      "FIRE:   45 16:55:23     -429.638084        0.224861\n",
      "FIRE:   46 16:55:36     -429.648392        0.228720\n",
      "FIRE:   47 16:56:12     -429.659286        0.232604\n",
      "FIRE:   48 16:56:30     -429.671223        0.234992\n",
      "FIRE:   49 16:56:41     -429.682945        0.233394\n",
      "FIRE:   50 16:56:49     -429.694614        0.229758\n",
      "FIRE:   51 16:56:54     -429.708206        0.223560\n",
      "FIRE:   52 16:57:07     -429.723747        0.216724\n",
      "FIRE:   53 16:57:24     -429.742359        0.207352\n",
      "FIRE:   54 16:57:50     -429.766792        0.200311\n",
      "FIRE:   55 16:58:08     -429.797581        0.194199\n",
      "FIRE:   56 16:58:21     -429.830078        0.184222\n",
      "FIRE:   57 16:58:33     -429.864098        0.172671\n",
      "FIRE:   58 16:58:43     -429.901081        0.191661\n",
      "FIRE:   59 16:59:00     -429.934193        0.369979\n",
      "FIRE:   60 16:59:30     -429.949547        0.727331\n",
      "FIRE:   61 17:00:00     -429.988266        0.156025\n",
      "FIRE:   62 17:00:18     -429.989494        0.155743\n",
      "FIRE:   63 17:00:33     -429.991444        0.155207\n",
      "FIRE:   64 17:01:13     -429.993473        0.154618\n",
      "FIRE:   65 17:01:25     -429.995689        0.154452\n",
      "FIRE:   66 17:01:46     -429.998547        0.154935\n",
      "FIRE:   67 17:02:22     -430.001991        0.155847\n",
      "FIRE:   68 17:02:44     -430.005436        0.156748\n",
      "FIRE:   69 17:02:58     -430.009361        0.157404\n",
      "FIRE:   70 17:03:17     -430.014194        0.157493\n",
      "FIRE:   71 17:03:43     -430.020176        0.156586\n",
      "FIRE:   72 17:03:59     -430.026852        0.155266\n",
      "FIRE:   73 17:04:32     -430.034996        0.154594\n",
      "FIRE:   74 17:04:52     -430.044716        0.153940\n",
      "FIRE:   75 17:05:17     -430.056385        0.152793\n",
      "FIRE:   76 17:05:32     -430.070591        0.151298\n",
      "FIRE:   77 17:05:47     -430.087814        0.151237\n",
      "FIRE:   78 17:06:04     -430.108295        0.149156\n",
      "FIRE:   79 17:06:14     -430.132542        0.146933\n",
      "FIRE:   80 17:06:26     -430.160660        0.143523\n",
      "FIRE:   81 17:06:42     -430.187523        0.289870\n",
      "FIRE:   82 17:07:00     -430.190113        0.682491\n",
      "FIRE:   83 17:07:14     -430.234146        0.135002\n",
      "FIRE:   84 17:07:25     -430.234627        0.134806\n",
      "FIRE:   85 17:07:25     -430.235374        0.134454\n",
      "FIRE:   86 17:07:26     -430.236443        0.133951\n",
      "FIRE:   87 17:07:26     -430.237671        0.133415\n",
      "FIRE:   88 17:07:31     -430.239166        0.132976\n",
      "FIRE:   89 17:07:53     -430.240982        0.132754\n",
      "FIRE:   90 17:08:03     -430.243038        0.132714\n",
      "FIRE:   91 17:08:05     -430.245522        0.132763\n",
      "FIRE:   92 17:08:19     -430.248699        0.132918\n",
      "FIRE:   93 17:08:33     -430.252678        0.132660\n",
      "FIRE:   94 17:08:42     -430.257832        0.133289\n",
      "FIRE:   95 17:08:50     -430.264668        0.134471\n",
      "FIRE:   96 17:09:01     -430.274120        0.136170\n",
      "FIRE:   97 17:09:38     -430.286804        0.147279\n",
      "FIRE:   98 17:10:04     -430.305656        0.184657\n",
      "FIRE:   99 17:10:17     -430.331345        0.170470\n",
      "FIRE:  100 17:10:30     -430.357807        0.148861\n",
      "FIRE:  101 17:10:52     -430.379463        0.172167\n",
      "FIRE:  102 17:11:25     -430.388943        0.333565\n",
      "FIRE:  103 17:11:55     -430.393936        0.279030\n",
      "FIRE:  104 17:12:16     -430.400852        0.183734\n",
      "FIRE:  105 17:12:38     -430.406620        0.136649\n",
      "FIRE:  106 17:13:11     -430.411266        0.136161\n",
      "FIRE:  107 17:13:31     -430.415218        0.135623\n",
      "FIRE:  108 17:13:54     -430.418530        0.135006\n",
      "FIRE:  109 17:14:54     -430.422028        0.134220\n",
      "FIRE:  110 17:15:38     -430.426407        0.133027\n",
      "FIRE:  111 17:16:14     -430.432922        0.131983\n",
      "FIRE:  112 17:16:36     -430.442402        0.131978\n",
      "FIRE:  113 17:16:45     -430.453671        0.132440\n",
      "FIRE:  114 17:16:57     -430.465527        0.131516\n",
      "FIRE:  115 17:17:19     -430.478931        0.129200\n",
      "FIRE:  116 17:18:10     -430.495487        0.127476\n",
      "FIRE:  117 17:18:26     -430.515461        0.130635\n",
      "FIRE:  118 17:18:44     -430.536236        0.170609\n",
      "FIRE:  119 17:19:09     -430.538960        0.522759\n",
      "FIRE:  120 17:20:04     -430.565182        0.129535\n"
     ]
    },
    {
     "ename": "KeyboardInterrupt",
     "evalue": "",
     "output_type": "error",
     "traceback": [
      "\u001b[0;31m---------------------------------------------------------------------------\u001b[0m",
      "\u001b[0;31mKeyboardInterrupt\u001b[0m                         Traceback (most recent call last)",
      "Cell \u001b[0;32mIn[22], line 1\u001b[0m\n\u001b[0;32m----> 1\u001b[0m result \u001b[38;5;241m=\u001b[39m relaxer\u001b[38;5;241m.\u001b[39mrelax(supercell)\n",
      "File \u001b[0;32m/opt/anaconda3/lib/python3.11/site-packages/chgnet/model/dynamics.py:302\u001b[0m, in \u001b[0;36mStructOptimizer.relax\u001b[0;34m(self, atoms, fmax, steps, relax_cell, ase_filter, save_path, loginterval, crystal_feas_save_path, verbose, assign_magmoms, **kwargs)\u001b[0m\n\u001b[1;32m    299\u001b[0m     \u001b[38;5;28;01mif\u001b[39;00m crystal_feas_save_path:\n\u001b[1;32m    300\u001b[0m         optimizer\u001b[38;5;241m.\u001b[39mattach(cry_obs, interval\u001b[38;5;241m=\u001b[39mloginterval)\n\u001b[0;32m--> 302\u001b[0m     optimizer\u001b[38;5;241m.\u001b[39mrun(fmax\u001b[38;5;241m=\u001b[39mfmax, steps\u001b[38;5;241m=\u001b[39msteps)\n\u001b[1;32m    303\u001b[0m     obs()\n\u001b[1;32m    305\u001b[0m \u001b[38;5;28;01mif\u001b[39;00m save_path \u001b[38;5;129;01mis\u001b[39;00m \u001b[38;5;129;01mnot\u001b[39;00m \u001b[38;5;28;01mNone\u001b[39;00m:\n",
      "File \u001b[0;32m/opt/anaconda3/lib/python3.11/site-packages/ase/optimize/optimize.py:430\u001b[0m, in \u001b[0;36mOptimizer.run\u001b[0;34m(self, fmax, steps)\u001b[0m\n\u001b[1;32m    415\u001b[0m \u001b[38;5;250m\u001b[39m\u001b[38;5;124;03m\"\"\"Run optimizer.\u001b[39;00m\n\u001b[1;32m    416\u001b[0m \n\u001b[1;32m    417\u001b[0m \u001b[38;5;124;03mParameters\u001b[39;00m\n\u001b[0;32m   (...)\u001b[0m\n\u001b[1;32m    427\u001b[0m \u001b[38;5;124;03m    True if the forces on atoms are converged.\u001b[39;00m\n\u001b[1;32m    428\u001b[0m \u001b[38;5;124;03m\"\"\"\u001b[39;00m\n\u001b[1;32m    429\u001b[0m \u001b[38;5;28mself\u001b[39m\u001b[38;5;241m.\u001b[39mfmax \u001b[38;5;241m=\u001b[39m fmax\n\u001b[0;32m--> 430\u001b[0m \u001b[38;5;28;01mreturn\u001b[39;00m Dynamics\u001b[38;5;241m.\u001b[39mrun(\u001b[38;5;28mself\u001b[39m, steps\u001b[38;5;241m=\u001b[39msteps)\n",
      "File \u001b[0;32m/opt/anaconda3/lib/python3.11/site-packages/ase/optimize/optimize.py:275\u001b[0m, in \u001b[0;36mDynamics.run\u001b[0;34m(self, steps)\u001b[0m\n\u001b[1;32m    257\u001b[0m \u001b[38;5;28;01mdef\u001b[39;00m \u001b[38;5;21mrun\u001b[39m(\u001b[38;5;28mself\u001b[39m, steps\u001b[38;5;241m=\u001b[39mDEFAULT_MAX_STEPS):\n\u001b[1;32m    258\u001b[0m \u001b[38;5;250m    \u001b[39m\u001b[38;5;124;03m\"\"\"Run dynamics algorithm.\u001b[39;00m\n\u001b[1;32m    259\u001b[0m \n\u001b[1;32m    260\u001b[0m \u001b[38;5;124;03m    This method will return when the forces on all individual\u001b[39;00m\n\u001b[0;32m   (...)\u001b[0m\n\u001b[1;32m    272\u001b[0m \u001b[38;5;124;03m        True if the forces on atoms are converged.\u001b[39;00m\n\u001b[1;32m    273\u001b[0m \u001b[38;5;124;03m    \"\"\"\u001b[39;00m\n\u001b[0;32m--> 275\u001b[0m     \u001b[38;5;28;01mfor\u001b[39;00m converged \u001b[38;5;129;01min\u001b[39;00m Dynamics\u001b[38;5;241m.\u001b[39mirun(\u001b[38;5;28mself\u001b[39m, steps\u001b[38;5;241m=\u001b[39msteps):\n\u001b[1;32m    276\u001b[0m         \u001b[38;5;28;01mpass\u001b[39;00m\n\u001b[1;32m    277\u001b[0m     \u001b[38;5;28;01mreturn\u001b[39;00m converged\n",
      "File \u001b[0;32m/opt/anaconda3/lib/python3.11/site-packages/ase/optimize/optimize.py:250\u001b[0m, in \u001b[0;36mDynamics.irun\u001b[0;34m(self, steps)\u001b[0m\n\u001b[1;32m    247\u001b[0m \u001b[38;5;28mself\u001b[39m\u001b[38;5;241m.\u001b[39mnsteps \u001b[38;5;241m+\u001b[39m\u001b[38;5;241m=\u001b[39m \u001b[38;5;241m1\u001b[39m\n\u001b[1;32m    249\u001b[0m \u001b[38;5;66;03m# log the step\u001b[39;00m\n\u001b[0;32m--> 250\u001b[0m \u001b[38;5;28mself\u001b[39m\u001b[38;5;241m.\u001b[39mlog()\n\u001b[1;32m    251\u001b[0m \u001b[38;5;28mself\u001b[39m\u001b[38;5;241m.\u001b[39mcall_observers()\n\u001b[1;32m    253\u001b[0m \u001b[38;5;66;03m# check convergence\u001b[39;00m\n",
      "File \u001b[0;32m/opt/anaconda3/lib/python3.11/site-packages/ase/optimize/optimize.py:440\u001b[0m, in \u001b[0;36mOptimizer.log\u001b[0;34m(self, forces)\u001b[0m\n\u001b[1;32m    438\u001b[0m \u001b[38;5;28;01mdef\u001b[39;00m \u001b[38;5;21mlog\u001b[39m(\u001b[38;5;28mself\u001b[39m, forces\u001b[38;5;241m=\u001b[39m\u001b[38;5;28;01mNone\u001b[39;00m):\n\u001b[1;32m    439\u001b[0m     \u001b[38;5;28;01mif\u001b[39;00m forces \u001b[38;5;129;01mis\u001b[39;00m \u001b[38;5;28;01mNone\u001b[39;00m:\n\u001b[0;32m--> 440\u001b[0m         forces \u001b[38;5;241m=\u001b[39m \u001b[38;5;28mself\u001b[39m\u001b[38;5;241m.\u001b[39moptimizable\u001b[38;5;241m.\u001b[39mget_forces()\n\u001b[1;32m    441\u001b[0m     fmax \u001b[38;5;241m=\u001b[39m sqrt((forces \u001b[38;5;241m*\u001b[39m\u001b[38;5;241m*\u001b[39m \u001b[38;5;241m2\u001b[39m)\u001b[38;5;241m.\u001b[39msum(axis\u001b[38;5;241m=\u001b[39m\u001b[38;5;241m1\u001b[39m)\u001b[38;5;241m.\u001b[39mmax())\n\u001b[1;32m    442\u001b[0m     e \u001b[38;5;241m=\u001b[39m \u001b[38;5;28mself\u001b[39m\u001b[38;5;241m.\u001b[39moptimizable\u001b[38;5;241m.\u001b[39mget_potential_energy()\n",
      "File \u001b[0;32m/opt/anaconda3/lib/python3.11/site-packages/ase/filters.py:29\u001b[0m, in \u001b[0;36mOptimizableFilter.get_forces\u001b[0;34m(self)\u001b[0m\n\u001b[1;32m     28\u001b[0m \u001b[38;5;28;01mdef\u001b[39;00m \u001b[38;5;21mget_forces\u001b[39m(\u001b[38;5;28mself\u001b[39m):\n\u001b[0;32m---> 29\u001b[0m     \u001b[38;5;28;01mreturn\u001b[39;00m \u001b[38;5;28mself\u001b[39m\u001b[38;5;241m.\u001b[39mfilterobj\u001b[38;5;241m.\u001b[39mget_forces()\n",
      "File \u001b[0;32m/opt/anaconda3/lib/python3.11/site-packages/ase/filters.py:612\u001b[0m, in \u001b[0;36mFrechetCellFilter.get_forces\u001b[0;34m(self, **kwargs)\u001b[0m\n\u001b[1;32m    609\u001b[0m \u001b[38;5;28;01mdef\u001b[39;00m \u001b[38;5;21mget_forces\u001b[39m(\u001b[38;5;28mself\u001b[39m, \u001b[38;5;241m*\u001b[39m\u001b[38;5;241m*\u001b[39mkwargs):\n\u001b[1;32m    610\u001b[0m     \u001b[38;5;66;03m# forces on atoms are same as UnitCellFilter, we just\u001b[39;00m\n\u001b[1;32m    611\u001b[0m     \u001b[38;5;66;03m# need to modify the stress contribution\u001b[39;00m\n\u001b[0;32m--> 612\u001b[0m     stress \u001b[38;5;241m=\u001b[39m \u001b[38;5;28mself\u001b[39m\u001b[38;5;241m.\u001b[39matoms\u001b[38;5;241m.\u001b[39mget_stress(\u001b[38;5;241m*\u001b[39m\u001b[38;5;241m*\u001b[39mkwargs)\n\u001b[1;32m    613\u001b[0m     volume \u001b[38;5;241m=\u001b[39m \u001b[38;5;28mself\u001b[39m\u001b[38;5;241m.\u001b[39matoms\u001b[38;5;241m.\u001b[39mget_volume()\n\u001b[1;32m    614\u001b[0m     virial \u001b[38;5;241m=\u001b[39m \u001b[38;5;241m-\u001b[39mvolume \u001b[38;5;241m*\u001b[39m (voigt_6_to_full_3x3_stress(stress) \u001b[38;5;241m+\u001b[39m\n\u001b[1;32m    615\u001b[0m                         np\u001b[38;5;241m.\u001b[39mdiag([\u001b[38;5;28mself\u001b[39m\u001b[38;5;241m.\u001b[39mscalar_pressure] \u001b[38;5;241m*\u001b[39m \u001b[38;5;241m3\u001b[39m))\n",
      "File \u001b[0;32m/opt/anaconda3/lib/python3.11/site-packages/ase/atoms.py:844\u001b[0m, in \u001b[0;36mAtoms.get_stress\u001b[0;34m(self, voigt, apply_constraint, include_ideal_gas)\u001b[0m\n\u001b[1;32m    841\u001b[0m \u001b[38;5;28;01mif\u001b[39;00m \u001b[38;5;28mself\u001b[39m\u001b[38;5;241m.\u001b[39m_calc \u001b[38;5;129;01mis\u001b[39;00m \u001b[38;5;28;01mNone\u001b[39;00m:\n\u001b[1;32m    842\u001b[0m     \u001b[38;5;28;01mraise\u001b[39;00m \u001b[38;5;167;01mRuntimeError\u001b[39;00m(\u001b[38;5;124m'\u001b[39m\u001b[38;5;124mAtoms object has no calculator.\u001b[39m\u001b[38;5;124m'\u001b[39m)\n\u001b[0;32m--> 844\u001b[0m stress \u001b[38;5;241m=\u001b[39m \u001b[38;5;28mself\u001b[39m\u001b[38;5;241m.\u001b[39m_calc\u001b[38;5;241m.\u001b[39mget_stress(\u001b[38;5;28mself\u001b[39m)\n\u001b[1;32m    845\u001b[0m shape \u001b[38;5;241m=\u001b[39m stress\u001b[38;5;241m.\u001b[39mshape\n\u001b[1;32m    847\u001b[0m \u001b[38;5;28;01mif\u001b[39;00m shape \u001b[38;5;241m==\u001b[39m (\u001b[38;5;241m3\u001b[39m, \u001b[38;5;241m3\u001b[39m):\n\u001b[1;32m    848\u001b[0m     \u001b[38;5;66;03m# Convert to the Voigt form before possibly applying\u001b[39;00m\n\u001b[1;32m    849\u001b[0m     \u001b[38;5;66;03m# constraints and adding the dynamic part of the stress\u001b[39;00m\n\u001b[1;32m    850\u001b[0m     \u001b[38;5;66;03m# (the \"ideal gas contribution\").\u001b[39;00m\n",
      "File \u001b[0;32m/opt/anaconda3/lib/python3.11/site-packages/ase/calculators/abc.py:33\u001b[0m, in \u001b[0;36mGetPropertiesMixin.get_stress\u001b[0;34m(self, atoms)\u001b[0m\n\u001b[1;32m     32\u001b[0m \u001b[38;5;28;01mdef\u001b[39;00m \u001b[38;5;21mget_stress\u001b[39m(\u001b[38;5;28mself\u001b[39m, atoms\u001b[38;5;241m=\u001b[39m\u001b[38;5;28;01mNone\u001b[39;00m):\n\u001b[0;32m---> 33\u001b[0m     \u001b[38;5;28;01mreturn\u001b[39;00m \u001b[38;5;28mself\u001b[39m\u001b[38;5;241m.\u001b[39mget_property(\u001b[38;5;124m'\u001b[39m\u001b[38;5;124mstress\u001b[39m\u001b[38;5;124m'\u001b[39m, atoms)\n",
      "File \u001b[0;32m/opt/anaconda3/lib/python3.11/site-packages/ase/calculators/calculator.py:538\u001b[0m, in \u001b[0;36mBaseCalculator.get_property\u001b[0;34m(self, name, atoms, allow_calculation)\u001b[0m\n\u001b[1;32m    535\u001b[0m     \u001b[38;5;28;01mif\u001b[39;00m \u001b[38;5;28mself\u001b[39m\u001b[38;5;241m.\u001b[39muse_cache:\n\u001b[1;32m    536\u001b[0m         \u001b[38;5;28mself\u001b[39m\u001b[38;5;241m.\u001b[39matoms \u001b[38;5;241m=\u001b[39m atoms\u001b[38;5;241m.\u001b[39mcopy()\n\u001b[0;32m--> 538\u001b[0m     \u001b[38;5;28mself\u001b[39m\u001b[38;5;241m.\u001b[39mcalculate(atoms, [name], system_changes)\n\u001b[1;32m    540\u001b[0m \u001b[38;5;28;01mif\u001b[39;00m name \u001b[38;5;129;01mnot\u001b[39;00m \u001b[38;5;129;01min\u001b[39;00m \u001b[38;5;28mself\u001b[39m\u001b[38;5;241m.\u001b[39mresults:\n\u001b[1;32m    541\u001b[0m     \u001b[38;5;66;03m# For some reason the calculator was not able to do what we want,\u001b[39;00m\n\u001b[1;32m    542\u001b[0m     \u001b[38;5;66;03m# and that is OK.\u001b[39;00m\n\u001b[1;32m    543\u001b[0m     \u001b[38;5;28;01mraise\u001b[39;00m PropertyNotImplementedError(\n\u001b[1;32m    544\u001b[0m         \u001b[38;5;124m'\u001b[39m\u001b[38;5;132;01m{}\u001b[39;00m\u001b[38;5;124m not present in this \u001b[39m\u001b[38;5;124m'\u001b[39m \u001b[38;5;124m'\u001b[39m\u001b[38;5;124mcalculation\u001b[39m\u001b[38;5;124m'\u001b[39m\u001b[38;5;241m.\u001b[39mformat(name)\n\u001b[1;32m    545\u001b[0m     )\n",
      "File \u001b[0;32m/opt/anaconda3/lib/python3.11/site-packages/chgnet/model/dynamics.py:143\u001b[0m, in \u001b[0;36mCHGNetCalculator.calculate\u001b[0;34m(self, atoms, properties, system_changes)\u001b[0m\n\u001b[1;32m    141\u001b[0m structure \u001b[38;5;241m=\u001b[39m AseAtomsAdaptor\u001b[38;5;241m.\u001b[39mget_structure(atoms)\n\u001b[1;32m    142\u001b[0m graph \u001b[38;5;241m=\u001b[39m \u001b[38;5;28mself\u001b[39m\u001b[38;5;241m.\u001b[39mmodel\u001b[38;5;241m.\u001b[39mgraph_converter(structure)\n\u001b[0;32m--> 143\u001b[0m model_prediction \u001b[38;5;241m=\u001b[39m \u001b[38;5;28mself\u001b[39m\u001b[38;5;241m.\u001b[39mmodel\u001b[38;5;241m.\u001b[39mpredict_graph(\n\u001b[1;32m    144\u001b[0m     graph\u001b[38;5;241m.\u001b[39mto(\u001b[38;5;28mself\u001b[39m\u001b[38;5;241m.\u001b[39mdevice), task\u001b[38;5;241m=\u001b[39m\u001b[38;5;124m\"\u001b[39m\u001b[38;5;124mefsm\u001b[39m\u001b[38;5;124m\"\u001b[39m, return_crystal_feas\u001b[38;5;241m=\u001b[39m\u001b[38;5;28;01mTrue\u001b[39;00m\n\u001b[1;32m    145\u001b[0m )\n\u001b[1;32m    147\u001b[0m \u001b[38;5;66;03m# Convert Result\u001b[39;00m\n\u001b[1;32m    148\u001b[0m factor \u001b[38;5;241m=\u001b[39m \u001b[38;5;241m1\u001b[39m \u001b[38;5;28;01mif\u001b[39;00m \u001b[38;5;129;01mnot\u001b[39;00m \u001b[38;5;28mself\u001b[39m\u001b[38;5;241m.\u001b[39mmodel\u001b[38;5;241m.\u001b[39mis_intensive \u001b[38;5;28;01melse\u001b[39;00m structure\u001b[38;5;241m.\u001b[39mcomposition\u001b[38;5;241m.\u001b[39mnum_atoms\n",
      "File \u001b[0;32m/opt/anaconda3/lib/python3.11/site-packages/chgnet/model/model.py:627\u001b[0m, in \u001b[0;36mCHGNet.predict_graph\u001b[0;34m(self, graph, task, return_site_energies, return_atom_feas, return_crystal_feas, batch_size)\u001b[0m\n\u001b[1;32m    625\u001b[0m n_steps \u001b[38;5;241m=\u001b[39m math\u001b[38;5;241m.\u001b[39mceil(\u001b[38;5;28mlen\u001b[39m(graphs) \u001b[38;5;241m/\u001b[39m batch_size)\n\u001b[1;32m    626\u001b[0m \u001b[38;5;28;01mfor\u001b[39;00m step \u001b[38;5;129;01min\u001b[39;00m \u001b[38;5;28mrange\u001b[39m(n_steps):\n\u001b[0;32m--> 627\u001b[0m     prediction \u001b[38;5;241m=\u001b[39m \u001b[38;5;28mself\u001b[39m\u001b[38;5;241m.\u001b[39mforward(\n\u001b[1;32m    628\u001b[0m         [\n\u001b[1;32m    629\u001b[0m             g\u001b[38;5;241m.\u001b[39mto(model_device)\n\u001b[1;32m    630\u001b[0m             \u001b[38;5;28;01mfor\u001b[39;00m g \u001b[38;5;129;01min\u001b[39;00m graphs[batch_size \u001b[38;5;241m*\u001b[39m step : batch_size \u001b[38;5;241m*\u001b[39m (step \u001b[38;5;241m+\u001b[39m \u001b[38;5;241m1\u001b[39m)]\n\u001b[1;32m    631\u001b[0m         ],\n\u001b[1;32m    632\u001b[0m         task\u001b[38;5;241m=\u001b[39mtask,\n\u001b[1;32m    633\u001b[0m         return_site_energies\u001b[38;5;241m=\u001b[39mreturn_site_energies,\n\u001b[1;32m    634\u001b[0m         return_atom_feas\u001b[38;5;241m=\u001b[39mreturn_atom_feas,\n\u001b[1;32m    635\u001b[0m         return_crystal_feas\u001b[38;5;241m=\u001b[39mreturn_crystal_feas,\n\u001b[1;32m    636\u001b[0m     )\n\u001b[1;32m    637\u001b[0m     \u001b[38;5;28;01mfor\u001b[39;00m key \u001b[38;5;129;01min\u001b[39;00m {\n\u001b[1;32m    638\u001b[0m         \u001b[38;5;124m\"\u001b[39m\u001b[38;5;124me\u001b[39m\u001b[38;5;124m\"\u001b[39m,\n\u001b[1;32m    639\u001b[0m         \u001b[38;5;124m\"\u001b[39m\u001b[38;5;124mf\u001b[39m\u001b[38;5;124m\"\u001b[39m,\n\u001b[0;32m   (...)\u001b[0m\n\u001b[1;32m    644\u001b[0m         \u001b[38;5;124m\"\u001b[39m\u001b[38;5;124mcrystal_fea\u001b[39m\u001b[38;5;124m\"\u001b[39m,\n\u001b[1;32m    645\u001b[0m     } \u001b[38;5;241m&\u001b[39m {\u001b[38;5;241m*\u001b[39mprediction}:\n\u001b[1;32m    646\u001b[0m         \u001b[38;5;28;01mfor\u001b[39;00m idx, tensor \u001b[38;5;129;01min\u001b[39;00m \u001b[38;5;28menumerate\u001b[39m(prediction[key]):\n",
      "File \u001b[0;32m/opt/anaconda3/lib/python3.11/site-packages/chgnet/model/model.py:367\u001b[0m, in \u001b[0;36mCHGNet.forward\u001b[0;34m(self, graphs, task, return_site_energies, return_atom_feas, return_crystal_feas)\u001b[0m\n\u001b[1;32m    359\u001b[0m batched_graph \u001b[38;5;241m=\u001b[39m BatchedGraph\u001b[38;5;241m.\u001b[39mfrom_graphs(\n\u001b[1;32m    360\u001b[0m     graphs,\n\u001b[1;32m    361\u001b[0m     bond_basis_expansion\u001b[38;5;241m=\u001b[39m\u001b[38;5;28mself\u001b[39m\u001b[38;5;241m.\u001b[39mbond_basis_expansion,\n\u001b[1;32m    362\u001b[0m     angle_basis_expansion\u001b[38;5;241m=\u001b[39m\u001b[38;5;28mself\u001b[39m\u001b[38;5;241m.\u001b[39mangle_basis_expansion,\n\u001b[1;32m    363\u001b[0m     compute_stress\u001b[38;5;241m=\u001b[39m\u001b[38;5;124m\"\u001b[39m\u001b[38;5;124ms\u001b[39m\u001b[38;5;124m\"\u001b[39m \u001b[38;5;129;01min\u001b[39;00m task,\n\u001b[1;32m    364\u001b[0m )\n\u001b[1;32m    366\u001b[0m \u001b[38;5;66;03m# Pass to model\u001b[39;00m\n\u001b[0;32m--> 367\u001b[0m prediction \u001b[38;5;241m=\u001b[39m \u001b[38;5;28mself\u001b[39m\u001b[38;5;241m.\u001b[39m_compute(\n\u001b[1;32m    368\u001b[0m     batched_graph,\n\u001b[1;32m    369\u001b[0m     compute_force\u001b[38;5;241m=\u001b[39m\u001b[38;5;124m\"\u001b[39m\u001b[38;5;124mf\u001b[39m\u001b[38;5;124m\"\u001b[39m \u001b[38;5;129;01min\u001b[39;00m task,\n\u001b[1;32m    370\u001b[0m     compute_stress\u001b[38;5;241m=\u001b[39m\u001b[38;5;124m\"\u001b[39m\u001b[38;5;124ms\u001b[39m\u001b[38;5;124m\"\u001b[39m \u001b[38;5;129;01min\u001b[39;00m task,\n\u001b[1;32m    371\u001b[0m     compute_magmom\u001b[38;5;241m=\u001b[39m\u001b[38;5;124m\"\u001b[39m\u001b[38;5;124mm\u001b[39m\u001b[38;5;124m\"\u001b[39m \u001b[38;5;129;01min\u001b[39;00m task,\n\u001b[1;32m    372\u001b[0m     return_site_energies\u001b[38;5;241m=\u001b[39mreturn_site_energies,\n\u001b[1;32m    373\u001b[0m     return_atom_feas\u001b[38;5;241m=\u001b[39mreturn_atom_feas,\n\u001b[1;32m    374\u001b[0m     return_crystal_feas\u001b[38;5;241m=\u001b[39mreturn_crystal_feas,\n\u001b[1;32m    375\u001b[0m )\n\u001b[1;32m    376\u001b[0m prediction[\u001b[38;5;124m\"\u001b[39m\u001b[38;5;124me\u001b[39m\u001b[38;5;124m\"\u001b[39m] \u001b[38;5;241m+\u001b[39m\u001b[38;5;241m=\u001b[39m comp_energy\n\u001b[1;32m    377\u001b[0m \u001b[38;5;28;01mif\u001b[39;00m return_site_energies \u001b[38;5;129;01mand\u001b[39;00m \u001b[38;5;28mself\u001b[39m\u001b[38;5;241m.\u001b[39mcomposition_model \u001b[38;5;129;01mis\u001b[39;00m \u001b[38;5;129;01mnot\u001b[39;00m \u001b[38;5;28;01mNone\u001b[39;00m:\n",
      "File \u001b[0;32m/opt/anaconda3/lib/python3.11/site-packages/chgnet/model/model.py:511\u001b[0m, in \u001b[0;36mCHGNet._compute\u001b[0;34m(self, g, compute_force, compute_stress, compute_magmom, return_site_energies, return_atom_feas, return_crystal_feas)\u001b[0m\n\u001b[1;32m    506\u001b[0m \u001b[38;5;66;03m# Compute force\u001b[39;00m\n\u001b[1;32m    507\u001b[0m \u001b[38;5;28;01mif\u001b[39;00m compute_force:\n\u001b[1;32m    508\u001b[0m     \u001b[38;5;66;03m# Need to retain_graph here, because energy is used in loss function,\u001b[39;00m\n\u001b[1;32m    509\u001b[0m     \u001b[38;5;66;03m# so its gradient need to be calculated later\u001b[39;00m\n\u001b[1;32m    510\u001b[0m     \u001b[38;5;66;03m# The graphs of force and stress need to be created for same reason.\u001b[39;00m\n\u001b[0;32m--> 511\u001b[0m     force \u001b[38;5;241m=\u001b[39m torch\u001b[38;5;241m.\u001b[39mautograd\u001b[38;5;241m.\u001b[39mgrad(\n\u001b[1;32m    512\u001b[0m         energy\u001b[38;5;241m.\u001b[39msum(), g\u001b[38;5;241m.\u001b[39matom_positions, create_graph\u001b[38;5;241m=\u001b[39m\u001b[38;5;28;01mTrue\u001b[39;00m, retain_graph\u001b[38;5;241m=\u001b[39m\u001b[38;5;28;01mTrue\u001b[39;00m\n\u001b[1;32m    513\u001b[0m     )\n\u001b[1;32m    514\u001b[0m     prediction[\u001b[38;5;124m\"\u001b[39m\u001b[38;5;124mf\u001b[39m\u001b[38;5;124m\"\u001b[39m] \u001b[38;5;241m=\u001b[39m [\u001b[38;5;241m-\u001b[39m\u001b[38;5;241m1\u001b[39m \u001b[38;5;241m*\u001b[39m force_dim \u001b[38;5;28;01mfor\u001b[39;00m force_dim \u001b[38;5;129;01min\u001b[39;00m force]\n\u001b[1;32m    516\u001b[0m \u001b[38;5;66;03m# Compute stress\u001b[39;00m\n",
      "File \u001b[0;32m/opt/anaconda3/lib/python3.11/site-packages/torch/autograd/__init__.py:411\u001b[0m, in \u001b[0;36mgrad\u001b[0;34m(outputs, inputs, grad_outputs, retain_graph, create_graph, only_inputs, allow_unused, is_grads_batched, materialize_grads)\u001b[0m\n\u001b[1;32m    407\u001b[0m     result \u001b[38;5;241m=\u001b[39m _vmap_internals\u001b[38;5;241m.\u001b[39m_vmap(vjp, \u001b[38;5;241m0\u001b[39m, \u001b[38;5;241m0\u001b[39m, allow_none_pass_through\u001b[38;5;241m=\u001b[39m\u001b[38;5;28;01mTrue\u001b[39;00m)(\n\u001b[1;32m    408\u001b[0m         grad_outputs_\n\u001b[1;32m    409\u001b[0m     )\n\u001b[1;32m    410\u001b[0m \u001b[38;5;28;01melse\u001b[39;00m:\n\u001b[0;32m--> 411\u001b[0m     result \u001b[38;5;241m=\u001b[39m Variable\u001b[38;5;241m.\u001b[39m_execution_engine\u001b[38;5;241m.\u001b[39mrun_backward(  \u001b[38;5;66;03m# Calls into the C++ engine to run the backward pass\u001b[39;00m\n\u001b[1;32m    412\u001b[0m         t_outputs,\n\u001b[1;32m    413\u001b[0m         grad_outputs_,\n\u001b[1;32m    414\u001b[0m         retain_graph,\n\u001b[1;32m    415\u001b[0m         create_graph,\n\u001b[1;32m    416\u001b[0m         inputs,\n\u001b[1;32m    417\u001b[0m         allow_unused,\n\u001b[1;32m    418\u001b[0m         accumulate_grad\u001b[38;5;241m=\u001b[39m\u001b[38;5;28;01mFalse\u001b[39;00m,\n\u001b[1;32m    419\u001b[0m     )  \u001b[38;5;66;03m# Calls into the C++ engine to run the backward pass\u001b[39;00m\n\u001b[1;32m    420\u001b[0m \u001b[38;5;28;01mif\u001b[39;00m materialize_grads:\n\u001b[1;32m    421\u001b[0m     \u001b[38;5;28;01mif\u001b[39;00m \u001b[38;5;28many\u001b[39m(\n\u001b[1;32m    422\u001b[0m         result[i] \u001b[38;5;129;01mis\u001b[39;00m \u001b[38;5;28;01mNone\u001b[39;00m \u001b[38;5;129;01mand\u001b[39;00m \u001b[38;5;129;01mnot\u001b[39;00m is_tensor_like(inputs[i])\n\u001b[1;32m    423\u001b[0m         \u001b[38;5;28;01mfor\u001b[39;00m i \u001b[38;5;129;01min\u001b[39;00m \u001b[38;5;28mrange\u001b[39m(\u001b[38;5;28mlen\u001b[39m(inputs))\n\u001b[1;32m    424\u001b[0m     ):\n",
      "\u001b[0;31mKeyboardInterrupt\u001b[0m: "
     ]
    }
   ],
   "source": [
    "result = relaxer.relax(supercell)"
   ]
  }
 ],
 "metadata": {
  "kernelspec": {
   "display_name": "base",
   "language": "python",
   "name": "python3"
  },
  "language_info": {
   "codemirror_mode": {
    "name": "ipython",
    "version": 3
   },
   "file_extension": ".py",
   "mimetype": "text/x-python",
   "name": "python",
   "nbconvert_exporter": "python",
   "pygments_lexer": "ipython3",
   "version": "3.11.7"
  }
 },
 "nbformat": 4,
 "nbformat_minor": 2
}
